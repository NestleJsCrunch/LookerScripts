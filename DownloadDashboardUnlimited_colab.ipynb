{
  "nbformat": 4,
  "nbformat_minor": 0,
  "metadata": {
    "colab": {
      "name": "DownloadDashboardUnlimited_colab.ipynb",
      "provenance": []
    },
    "kernelspec": {
      "name": "python3",
      "display_name": "Python 3"
    },
    "language_info": {
      "name": "python"
    }
  },
  "cells": [
    {
      "cell_type": "markdown",
      "metadata": {
        "id": "wVr2kFp2hgxD"
      },
      "source": [
        "### **README**\n",
        "\n",
        "# What this does\n",
        "\n",
        "This script allows you to download any number of **Dashboards** into a singular Excel file. Each Tile's query will have row limits removed. You can also specify a file name for the download. \n",
        "\n",
        "Note: **Be careful** , this can create large Excel files depending on the amount of data returned by each query. It's recommended that you modify this script to download each tile as a seperate CSV if an unlimited download of any one tile will return a large amount of data. \n",
        "\n",
        "# Notes\n",
        "`DownloadDashboardUnlimited(dash_id, file_name)` accepts two inputs:\n",
        "\n",
        "- `dash_id`(string) - accepts a dashboard ID.\n",
        "- `file_name`(string) - the desired output file name of the final excel file.\n",
        "\n",
        "If using colab version, you will need to input your api url, client_id, and client_secret in the `## colab inputs ##` section. \n",
        "\n",
        "```\n",
        "os.environ['LOOKERSDK_BASE_URL'] = 'https://example.looker.com'\n",
        "os.environ['LOOKERSDK_API_VERSION'] = '3.1'\n",
        "os.environ['LOOKERSDK_CLIENT_ID'] = 'client id here'\n",
        "os.environ['LOOKERSDK_CLIENT_SECRET'] = 'client secret here'\n",
        "```\n",
        "\n",
        "If using python (local) version, these values should be set for the sdk per either an `.ini` file or as an environment variable. See Python SDK documentation for more information. https://pypi.org/project/looker-sdk/"
      ]
    },
    {
      "cell_type": "code",
      "metadata": {
        "colab": {
          "base_uri": "https://localhost:8080/"
        },
        "id": "TGd0X7bi2rgh",
        "outputId": "0375abd3-c62a-4d1d-fbe0-3391861e03c6"
      },
      "source": [
        "### colab specific ###\n",
        "# install the sdk\n",
        "!pip install looker-sdk\n",
        "# set environ variables\n",
        "import os\n",
        "\n",
        "## colab inputs ##\n",
        "os.environ['LOOKERSDK_BASE_URL'] = 'https://dcl.api.dev.looker.com'\n",
        "os.environ['LOOKERSDK_API_VERSION'] = '3.1'\n",
        "os.environ['LOOKERSDK_CLIENT_ID'] = 'vY3cbCbGrPdCjsjr8CnF'\n",
        "os.environ['LOOKERSDK_CLIENT_SECRET'] = 'pB3BTTgb9m3bQz23p566FWsR'\n",
        "\n",
        "# will need these for downloading the file from colab\n",
        "!pip install -U -q PyDrive\n",
        "from pydrive.auth import GoogleAuth\n",
        "from pydrive.drive import GoogleDrive\n",
        "from google.colab import auth\n",
        "from google.colab import files\n",
        "from oauth2client.client import GoogleCredentials\n",
        "# auth stuff for download\n",
        "auth.authenticate_user()\n",
        "gauth = GoogleAuth()\n",
        "gauth.credentials = GoogleCredentials.get_application_default()\n",
        "drive = GoogleDrive(gauth)"
      ],
      "execution_count": 2,
      "outputs": [
        {
          "output_type": "stream",
          "text": [
            "Requirement already satisfied: looker-sdk in /usr/local/lib/python3.7/dist-packages (21.4.0)\n",
            "Requirement already satisfied: attrs>=20.1.0; python_version >= \"3.7\" in /usr/local/lib/python3.7/dist-packages (from looker-sdk) (20.3.0)\n",
            "Requirement already satisfied: requests>=2.22 in /usr/local/lib/python3.7/dist-packages (from looker-sdk) (2.23.0)\n",
            "Requirement already satisfied: cattrs==1.1.2; python_version >= \"3.7\" in /usr/local/lib/python3.7/dist-packages (from looker-sdk) (1.1.2)\n",
            "Requirement already satisfied: typing-extensions; python_version < \"3.8\" in /usr/local/lib/python3.7/dist-packages (from looker-sdk) (3.7.4.3)\n",
            "Requirement already satisfied: certifi>=2017.4.17 in /usr/local/lib/python3.7/dist-packages (from requests>=2.22->looker-sdk) (2020.12.5)\n",
            "Requirement already satisfied: idna<3,>=2.5 in /usr/local/lib/python3.7/dist-packages (from requests>=2.22->looker-sdk) (2.10)\n",
            "Requirement already satisfied: urllib3!=1.25.0,!=1.25.1,<1.26,>=1.21.1 in /usr/local/lib/python3.7/dist-packages (from requests>=2.22->looker-sdk) (1.24.3)\n",
            "Requirement already satisfied: chardet<4,>=3.0.2 in /usr/local/lib/python3.7/dist-packages (from requests>=2.22->looker-sdk) (3.0.4)\n"
          ],
          "name": "stdout"
        }
      ]
    },
    {
      "cell_type": "code",
      "metadata": {
        "id": "Yl4-Eu-k2v87"
      },
      "source": [
        "### import packages ###\n",
        "# import and init\n",
        "import looker_sdk\n",
        "sdk = looker_sdk.init31(\"looker.ini\")\n",
        "\n",
        "import pandas as pd\n",
        "import csv\n",
        "import json\n",
        "import re"
      ],
      "execution_count": 3,
      "outputs": []
    },
    {
      "cell_type": "code",
      "metadata": {
        "id": "-Nh7DQOn2xhj"
      },
      "source": [
        "## inputs ##\n",
        "\n",
        "dash_id = '1317'\n",
        "file_name = 'blech'\n"
      ],
      "execution_count": 38,
      "outputs": []
    },
    {
      "cell_type": "code",
      "metadata": {
        "colab": {
          "base_uri": "https://localhost:8080/",
          "height": 272
        },
        "id": "0IMyHlUUXBBp",
        "outputId": "db37a7be-bbda-4d8c-ac39-c13cce091e9c"
      },
      "source": [
        "def DownloadDashboardUnlimited(dash_id, file_name):\n",
        "\n",
        "  data = sdk.search_dashboard_elements(dashboard_id=dash_id)\n",
        "  numelemnets = len(data)\n",
        "\n",
        "  with pd.ExcelWriter(file_name+'.xlsx') as writer:\n",
        "\n",
        "    for x in range(numelemnets):\n",
        "      element_query_body = data[x].result_maker.query\n",
        "      element_query_body['limit'] = -1\n",
        "      elements_needed = ['model','view','fields','filters','sorts','limit','query_timezone']\n",
        "      listlen = len(elements_needed)\n",
        "\n",
        "      final_body = {}\n",
        "\n",
        "      for y in range(listlen):\n",
        "        try:\n",
        "          new_el = element_query_body[elements_needed[y]]\n",
        "        except:\n",
        "          i+=1\n",
        "        else:\n",
        "          final_body[elements_needed[y]] = new_el\n",
        "      \n",
        "      resultset = sdk.run_inline_query('csv', final_body)\n",
        "  \n",
        "      with open('temp.csv', 'w', newline='') as file:\n",
        "            file.write(resultset)\n",
        "      df = pd.read_table('temp.csv', delimiter =\",\",engine='python')\n",
        "      df.to_excel(writer, sheet_name=('Sheet ' + str(x)))"
      ],
      "execution_count": 41,
      "outputs": [
        {
          "output_type": "stream",
          "text": [
            "   Orders Created Year  Orders Count\n",
            "0                 2019         13657\n",
            "1                 2018         10752\n",
            "2                 2017          6248\n",
            "3                 2016          1600\n",
            "   Orders User ID  Orders Count\n",
            "0              73            25\n",
            "1            3454            22\n",
            "2            1729            21\n",
            "3             612            21\n",
            "4            3300            21\n",
            "  Orders Status  Orders Count\n",
            "0      complete         31377\n",
            "1       pending           505\n",
            "2     cancelled           375\n"
          ],
          "name": "stdout"
        },
        {
          "output_type": "display_data",
          "data": {
            "application/javascript": [
              "\n",
              "    async function download(id, filename, size) {\n",
              "      if (!google.colab.kernel.accessAllowed) {\n",
              "        return;\n",
              "      }\n",
              "      const div = document.createElement('div');\n",
              "      const label = document.createElement('label');\n",
              "      label.textContent = `Downloading \"${filename}\": `;\n",
              "      div.appendChild(label);\n",
              "      const progress = document.createElement('progress');\n",
              "      progress.max = size;\n",
              "      div.appendChild(progress);\n",
              "      document.body.appendChild(div);\n",
              "\n",
              "      const buffers = [];\n",
              "      let downloaded = 0;\n",
              "\n",
              "      const channel = await google.colab.kernel.comms.open(id);\n",
              "      // Send a message to notify the kernel that we're ready.\n",
              "      channel.send({})\n",
              "\n",
              "      for await (const message of channel.messages) {\n",
              "        // Send a message to notify the kernel that we're ready.\n",
              "        channel.send({})\n",
              "        if (message.buffers) {\n",
              "          for (const buffer of message.buffers) {\n",
              "            buffers.push(buffer);\n",
              "            downloaded += buffer.byteLength;\n",
              "            progress.value = downloaded;\n",
              "          }\n",
              "        }\n",
              "      }\n",
              "      const blob = new Blob(buffers, {type: 'application/binary'});\n",
              "      const a = document.createElement('a');\n",
              "      a.href = window.URL.createObjectURL(blob);\n",
              "      a.download = filename;\n",
              "      div.appendChild(a);\n",
              "      a.click();\n",
              "      div.remove();\n",
              "    }\n",
              "  "
            ],
            "text/plain": [
              "<IPython.core.display.Javascript object>"
            ]
          },
          "metadata": {
            "tags": []
          }
        },
        {
          "output_type": "display_data",
          "data": {
            "application/javascript": [
              "download(\"download_f9e7d4a9-4199-4893-bfe4-750ea0c7671e\", \"blech.xlsx\", 227713)"
            ],
            "text/plain": [
              "<IPython.core.display.Javascript object>"
            ]
          },
          "metadata": {
            "tags": []
          }
        }
      ]
    },
    {
      "cell_type": "code",
      "metadata": {
        "id": "rtF6Z1tRhURs"
      },
      "source": [
        "DownloadDashboardUnlimited(dash_id, file_name)\n",
        "\n",
        "## colab stuff\n",
        "from google.colab import files \n",
        "files.download(file_name+'.xlsx')"
      ],
      "execution_count": null,
      "outputs": []
    }
  ]
}