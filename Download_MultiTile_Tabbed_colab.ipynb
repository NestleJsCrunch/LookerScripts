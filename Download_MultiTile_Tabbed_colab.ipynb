{
  "nbformat": 4,
  "nbformat_minor": 0,
  "metadata": {
    "colab": {
      "name": "download_multitile_tabbed.ipynb",
      "provenance": []
    },
    "kernelspec": {
      "name": "python3",
      "display_name": "Python 3"
    },
    "language_info": {
      "name": "python"
    }
  },
  "cells": [
    {
      "cell_type": "markdown",
      "metadata": {
        "id": "CrfVyMZzSIVy"
      },
      "source": [
        "### **README**\n",
        "\n",
        "# What this does\n",
        "\n",
        "This script allows you to download a **dashboard** into a singular Excel file. Each **Tile** will be a tab/worksheet within that Excel file. Each tab's title will be 'Sheet `<i of tile>`. You can also specify a file name for the download.\n",
        "\n",
        "# Notes\n",
        "`download_multitile_tabbed(dash_id, file_name)` accepts two inputs:\n",
        "\n",
        "- `dash_id`(string) - accepts a dashboard ID. \n",
        "- `file_name`(string) - the desired output file name of the final excel file.\n",
        "\n",
        "If using colab version, you will need to input your api url, client_id, and client_secret in the `## colab inputs ##` section. \n",
        "\n",
        "```\n",
        "os.environ['LOOKERSDK_BASE_URL'] = 'https://example.looker.com'\n",
        "os.environ['LOOKERSDK_API_VERSION'] = '3.1'\n",
        "os.environ['LOOKERSDK_CLIENT_ID'] = 'client id here'\n",
        "os.environ['LOOKERSDK_CLIENT_SECRET'] = 'client secret here'\n",
        "```\n",
        "\n",
        "If using python (local) version, these values should be set for the sdk per either an `.ini` file or as an environment variable. See Python SDK documentation for more information. https://pypi.org/project/looker-sdk/\n"
      ]
    },
    {
      "cell_type": "code",
      "metadata": {
        "colab": {
          "base_uri": "https://localhost:8080/"
        },
        "id": "TGd0X7bi2rgh",
        "outputId": "2aea7134-0cd6-442f-fca6-e5d26acc009a"
      },
      "source": [
        "### colab specific ###\n",
        "# install the sdk\n",
        "!pip install looker-sdk\n",
        "# set environ variables\n",
        "import os\n",
        "\n",
        "## colab inputs ##\n",
        "os.environ['LOOKERSDK_BASE_URL'] = ''\n",
        "os.environ['LOOKERSDK_API_VERSION'] = '3.1'\n",
        "os.environ['LOOKERSDK_CLIENT_ID'] = ''\n",
        "os.environ['LOOKERSDK_CLIENT_SECRET'] = ''\n",
        "\n",
        "# will need these for downloading the file from colab\n",
        "!pip install -U -q PyDrive\n",
        "from pydrive.auth import GoogleAuth\n",
        "from pydrive.drive import GoogleDrive\n",
        "from google.colab import auth\n",
        "from google.colab import files\n",
        "from oauth2client.client import GoogleCredentials\n",
        "# auth stuff for download\n",
        "auth.authenticate_user()\n",
        "gauth = GoogleAuth()\n",
        "gauth.credentials = GoogleCredentials.get_application_default()\n",
        "drive = GoogleDrive(gauth)"
      ],
      "execution_count": 1,
      "outputs": [
        {
          "output_type": "stream",
          "text": [
            "Collecting looker-sdk\n",
            "\u001b[?25l  Downloading https://files.pythonhosted.org/packages/15/44/43eb97ebfb057270105d03cef374df5c5d9916922626d7d0d6fd0017b3e3/looker_sdk-21.0.0-py3-none-any.whl (313kB)\n",
            "\r\u001b[K     |█                               | 10kB 15.0MB/s eta 0:00:01\r\u001b[K     |██                              | 20kB 13.1MB/s eta 0:00:01\r\u001b[K     |███▏                            | 30kB 7.8MB/s eta 0:00:01\r\u001b[K     |████▏                           | 40kB 7.4MB/s eta 0:00:01\r\u001b[K     |█████▎                          | 51kB 4.1MB/s eta 0:00:01\r\u001b[K     |██████▎                         | 61kB 4.6MB/s eta 0:00:01\r\u001b[K     |███████▎                        | 71kB 4.9MB/s eta 0:00:01\r\u001b[K     |████████▍                       | 81kB 5.2MB/s eta 0:00:01\r\u001b[K     |█████████▍                      | 92kB 5.3MB/s eta 0:00:01\r\u001b[K     |██████████▌                     | 102kB 5.8MB/s eta 0:00:01\r\u001b[K     |███████████▌                    | 112kB 5.8MB/s eta 0:00:01\r\u001b[K     |████████████▌                   | 122kB 5.8MB/s eta 0:00:01\r\u001b[K     |█████████████▋                  | 133kB 5.8MB/s eta 0:00:01\r\u001b[K     |██████████████▋                 | 143kB 5.8MB/s eta 0:00:01\r\u001b[K     |███████████████▊                | 153kB 5.8MB/s eta 0:00:01\r\u001b[K     |████████████████▊               | 163kB 5.8MB/s eta 0:00:01\r\u001b[K     |█████████████████▊              | 174kB 5.8MB/s eta 0:00:01\r\u001b[K     |██████████████████▉             | 184kB 5.8MB/s eta 0:00:01\r\u001b[K     |███████████████████▉            | 194kB 5.8MB/s eta 0:00:01\r\u001b[K     |█████████████████████           | 204kB 5.8MB/s eta 0:00:01\r\u001b[K     |██████████████████████          | 215kB 5.8MB/s eta 0:00:01\r\u001b[K     |███████████████████████         | 225kB 5.8MB/s eta 0:00:01\r\u001b[K     |████████████████████████        | 235kB 5.8MB/s eta 0:00:01\r\u001b[K     |█████████████████████████       | 245kB 5.8MB/s eta 0:00:01\r\u001b[K     |██████████████████████████▏     | 256kB 5.8MB/s eta 0:00:01\r\u001b[K     |███████████████████████████▏    | 266kB 5.8MB/s eta 0:00:01\r\u001b[K     |████████████████████████████▏   | 276kB 5.8MB/s eta 0:00:01\r\u001b[K     |█████████████████████████████▎  | 286kB 5.8MB/s eta 0:00:01\r\u001b[K     |██████████████████████████████▎ | 296kB 5.8MB/s eta 0:00:01\r\u001b[K     |███████████████████████████████▍| 307kB 5.8MB/s eta 0:00:01\r\u001b[K     |████████████████████████████████| 317kB 5.8MB/s \n",
            "\u001b[?25hRequirement already satisfied: typing-extensions; python_version < \"3.8\" in /usr/local/lib/python3.7/dist-packages (from looker-sdk) (3.7.4.3)\n",
            "Requirement already satisfied: attrs>=20.1.0; python_version >= \"3.7\" in /usr/local/lib/python3.7/dist-packages (from looker-sdk) (20.3.0)\n",
            "Requirement already satisfied: requests>=2.22 in /usr/local/lib/python3.7/dist-packages (from looker-sdk) (2.23.0)\n",
            "Collecting cattrs==1.1.2; python_version >= \"3.7\"\n",
            "  Downloading https://files.pythonhosted.org/packages/de/6c/7e372e2826df2dc798bf49c6ddfc60e3218456bef82df1a29b387bf607ba/cattrs-1.1.2-py3-none-any.whl\n",
            "Requirement already satisfied: idna<3,>=2.5 in /usr/local/lib/python3.7/dist-packages (from requests>=2.22->looker-sdk) (2.10)\n",
            "Requirement already satisfied: urllib3!=1.25.0,!=1.25.1,<1.26,>=1.21.1 in /usr/local/lib/python3.7/dist-packages (from requests>=2.22->looker-sdk) (1.24.3)\n",
            "Requirement already satisfied: certifi>=2017.4.17 in /usr/local/lib/python3.7/dist-packages (from requests>=2.22->looker-sdk) (2020.12.5)\n",
            "Requirement already satisfied: chardet<4,>=3.0.2 in /usr/local/lib/python3.7/dist-packages (from requests>=2.22->looker-sdk) (3.0.4)\n",
            "Installing collected packages: cattrs, looker-sdk\n",
            "Successfully installed cattrs-1.1.2 looker-sdk-21.0.0\n"
          ],
          "name": "stdout"
        }
      ]
    },
    {
      "cell_type": "code",
      "metadata": {
        "id": "Yl4-Eu-k2v87"
      },
      "source": [
        "### import packages ###\n",
        "# import and init\n",
        "import looker_sdk\n",
        "sdk = looker_sdk.init31(\"looker.ini\")\n",
        "\n",
        "import pandas as pd\n",
        "import csv\n",
        "import json\n",
        "import re"
      ],
      "execution_count": 137,
      "outputs": []
    },
    {
      "cell_type": "code",
      "metadata": {
        "id": "-Nh7DQOn2xhj"
      },
      "source": [
        "## inputs ##\n",
        "\n",
        "dash_id = '1317'\n",
        "file_name = 'Tabbed_Dashboard'\n"
      ],
      "execution_count": 138,
      "outputs": []
    },
    {
      "cell_type": "code",
      "metadata": {
        "id": "E8TH92dk25xK"
      },
      "source": [
        "def download_multitile_tabbed(dash_id, file_name):\n",
        "# variables \n",
        "  data = sdk.search_dashboard_elements(dashboard_id=dash_id)\n",
        "  listlen = len(data)\n",
        "  query_ids = []\n",
        "\n",
        "# helper methods\n",
        "  def id_getter(data, listlen, query_ids):\n",
        "    for i in range(listlen):\n",
        "      query_ids.append(data[i].result_maker.query_id)\n",
        "    return query_ids\n",
        "  \n",
        "  def downloader(data, listlen, query_ids, file_name):\n",
        "    idlist = id_getter(data, listlen, query_ids)\n",
        "    with pd.ExcelWriter(file_name+'.xlsx') as writer:\n",
        "      for i in range(listlen):\n",
        "        resultset = sdk.run_query(query_id=idlist[i],result_format='csv')\n",
        "        with open('temp.csv', 'w', newline='') as file:\n",
        "          file.write(resultset)\n",
        "        df = pd.read_table('temp.csv', delimiter =\",\",engine='python')\n",
        "        df.to_excel(writer, sheet_name=('Sheet ' + str(i)))\n",
        "# call downloader\n",
        "  downloader(data, listlen, query_ids, file_name)"
      ],
      "execution_count": 141,
      "outputs": []
    },
    {
      "cell_type": "code",
      "metadata": {
        "colab": {
          "base_uri": "https://localhost:8080/",
          "height": 17
        },
        "id": "TS3jBU4gR_Qj",
        "outputId": "ebd46415-a93a-41fa-b203-d23c6a641d34"
      },
      "source": [
        "# test it yourself\n",
        "download_multitile_tabbed(dash_id, file_name)\n",
        "\n",
        "# colab only\n",
        "from google.colab import files \n",
        "files.download(file_name+'.xlsx')"
      ],
      "execution_count": 140,
      "outputs": [
        {
          "output_type": "display_data",
          "data": {
            "application/javascript": [
              "\n",
              "    async function download(id, filename, size) {\n",
              "      if (!google.colab.kernel.accessAllowed) {\n",
              "        return;\n",
              "      }\n",
              "      const div = document.createElement('div');\n",
              "      const label = document.createElement('label');\n",
              "      label.textContent = `Downloading \"${filename}\": `;\n",
              "      div.appendChild(label);\n",
              "      const progress = document.createElement('progress');\n",
              "      progress.max = size;\n",
              "      div.appendChild(progress);\n",
              "      document.body.appendChild(div);\n",
              "\n",
              "      const buffers = [];\n",
              "      let downloaded = 0;\n",
              "\n",
              "      const channel = await google.colab.kernel.comms.open(id);\n",
              "      // Send a message to notify the kernel that we're ready.\n",
              "      channel.send({})\n",
              "\n",
              "      for await (const message of channel.messages) {\n",
              "        // Send a message to notify the kernel that we're ready.\n",
              "        channel.send({})\n",
              "        if (message.buffers) {\n",
              "          for (const buffer of message.buffers) {\n",
              "            buffers.push(buffer);\n",
              "            downloaded += buffer.byteLength;\n",
              "            progress.value = downloaded;\n",
              "          }\n",
              "        }\n",
              "      }\n",
              "      const blob = new Blob(buffers, {type: 'application/binary'});\n",
              "      const a = document.createElement('a');\n",
              "      a.href = window.URL.createObjectURL(blob);\n",
              "      a.download = filename;\n",
              "      div.appendChild(a);\n",
              "      a.click();\n",
              "      div.remove();\n",
              "    }\n",
              "  "
            ],
            "text/plain": [
              "<IPython.core.display.Javascript object>"
            ]
          },
          "metadata": {
            "tags": []
          }
        },
        {
          "output_type": "display_data",
          "data": {
            "application/javascript": [
              "download(\"download_15f83e2f-35a1-4c6c-bd80-7820e0359f60\", \"Tabbed_Dashboard.xlsx\", 15004)"
            ],
            "text/plain": [
              "<IPython.core.display.Javascript object>"
            ]
          },
          "metadata": {
            "tags": []
          }
        }
      ]
    }
  ]
}
