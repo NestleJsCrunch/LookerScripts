{
  "nbformat": 4,
  "nbformat_minor": 0,
  "metadata": {
    "colab": {
      "name": "DownloadLookTabbed_colab.ipynb",
      "provenance": []
    },
    "kernelspec": {
      "name": "python3",
      "display_name": "Python 3"
    },
    "language_info": {
      "name": "python"
    }
  },
  "cells": [
    {
      "cell_type": "markdown",
      "metadata": {
        "id": "2o9hLmCaCXJB"
      },
      "source": [
        "### **README**\n",
        "\n",
        "# What this does\n",
        "\n",
        "This script allows you to download any number of **Looks** into a singular Excel file. Each Look will be a tab/worksheet within that Excel file. Each Looks title will be the title of the tab. You can also specify a file name for the download, instead of the default `look_name date_time.xlsx`. \n",
        "\n",
        "# Notes\n",
        "`download_multilook_tabbed(input_mode,look_list, file_name)` accepts 3 inputs:\n",
        "\n",
        "- `input_mode`(string) - accepts a value of `coded` or `otf`. \n",
        "  - `otf` prompts users for CLI input for a comma delimited list of look IDs. IDs should be in the format `'1','2','3',etc`\n",
        "  - `coded` passes input from `look_list` into the download function. \n",
        "- `look_list`(list) - accepts a comma delimited list of Look IDs. IDs should be in the format `'1','2','3',etc`. Only used with `input_mode` of `coded`\n",
        "- `file_name`(string) - the desired output file name of the final excel file.\n",
        "\n",
        "If using colab version, you will need to input your api url, client_id, and client_secret in the `## colab inputs ##` section. \n",
        "\n",
        "```\n",
        "os.environ['LOOKERSDK_BASE_URL'] = 'https://example.looker.com'\n",
        "os.environ['LOOKERSDK_API_VERSION'] = '3.1'\n",
        "os.environ['LOOKERSDK_CLIENT_ID'] = 'client id here'\n",
        "os.environ['LOOKERSDK_CLIENT_SECRET'] = 'client secret here'\n",
        "```\n",
        "\n",
        "If using python (local) version, these values should be set for the sdk per either an `.ini` file or as an environment variable. See Python SDK documentation for more information. https://pypi.org/project/looker-sdk/"
      ]
    },
    {
      "cell_type": "code",
      "metadata": {
        "id": "lZZyb5kCCJR6"
      },
      "source": [
        "### inputs ###\n",
        "# input_mode - coded or otf \n",
        "input_mode = 'coded | otf'\n",
        "# look_list - if coded, passes through to list_create\n",
        "look_list = []\n",
        "# file_name - output file name of the xlsx file\n",
        "file_name = ''"
      ],
      "execution_count": 17,
      "outputs": []
    },
    {
      "cell_type": "code",
      "metadata": {
        "colab": {
          "base_uri": "https://localhost:8080/"
        },
        "id": "ttqi4j2uBtQi",
        "outputId": "8e2e5aea-da81-4dbb-89c5-746a0d3d5639"
      },
      "source": [
        "### colab specific ###\n",
        "# install the sdk\n",
        "!pip install looker-sdk\n",
        "# set environ variables\n",
        "import os\n",
        "\n",
        "## colab inputs ##\n",
        "os.environ['LOOKERSDK_BASE_URL'] = ''\n",
        "os.environ['LOOKERSDK_API_VERSION'] = '3.1'\n",
        "os.environ['LOOKERSDK_CLIENT_ID'] = ''\n",
        "os.environ['LOOKERSDK_CLIENT_SECRET'] = ''\n",
        "\n",
        "# will need these for downloading the file from colab\n",
        "!pip install -U -q PyDrive\n",
        "from pydrive.auth import GoogleAuth\n",
        "from pydrive.drive import GoogleDrive\n",
        "from google.colab import auth\n",
        "from google.colab import files\n",
        "from oauth2client.client import GoogleCredentials\n",
        "# auth stuff for download\n",
        "auth.authenticate_user()\n",
        "gauth = GoogleAuth()\n",
        "gauth.credentials = GoogleCredentials.get_application_default()\n",
        "drive = GoogleDrive(gauth)"
      ],
      "execution_count": 18,
      "outputs": [
        {
          "output_type": "stream",
          "text": [
            "Requirement already satisfied: looker-sdk in /usr/local/lib/python3.7/dist-packages (21.0.0)\n",
            "Requirement already satisfied: typing-extensions; python_version < \"3.8\" in /usr/local/lib/python3.7/dist-packages (from looker-sdk) (3.7.4.3)\n",
            "Requirement already satisfied: attrs>=20.1.0; python_version >= \"3.7\" in /usr/local/lib/python3.7/dist-packages (from looker-sdk) (20.3.0)\n",
            "Requirement already satisfied: requests>=2.22 in /usr/local/lib/python3.7/dist-packages (from looker-sdk) (2.23.0)\n",
            "Requirement already satisfied: cattrs==1.1.2; python_version >= \"3.7\" in /usr/local/lib/python3.7/dist-packages (from looker-sdk) (1.1.2)\n",
            "Requirement already satisfied: chardet<4,>=3.0.2 in /usr/local/lib/python3.7/dist-packages (from requests>=2.22->looker-sdk) (3.0.4)\n",
            "Requirement already satisfied: certifi>=2017.4.17 in /usr/local/lib/python3.7/dist-packages (from requests>=2.22->looker-sdk) (2020.12.5)\n",
            "Requirement already satisfied: urllib3!=1.25.0,!=1.25.1,<1.26,>=1.21.1 in /usr/local/lib/python3.7/dist-packages (from requests>=2.22->looker-sdk) (1.24.3)\n",
            "Requirement already satisfied: idna<3,>=2.5 in /usr/local/lib/python3.7/dist-packages (from requests>=2.22->looker-sdk) (2.10)\n"
          ],
          "name": "stdout"
        }
      ]
    },
    {
      "cell_type": "code",
      "metadata": {
        "id": "EGaZocYu4i3e"
      },
      "source": [
        "### import packages ###\n",
        "# import and init\n",
        "import looker_sdk\n",
        "sdk = looker_sdk.init31(\"looker.ini\")\n",
        "\n",
        "import pandas as pd\n",
        "import csv\n",
        "\n",
        "def download_multilook_tabbed(input_mode,look_list, file_name):\n",
        "  # local variables #\n",
        "  # looks - returned by list_create and passed through to other functions\n",
        "  looks = []\n",
        "  # listlen - passed through to downloader and title_get to set number of iterations\n",
        "  listlen = 0\n",
        "  # titles - returned by title_get and passed through into downloader\n",
        "  titles = []\n",
        "  # helper methods\n",
        "  def list_create(input_mode, look_list):\n",
        "    if input_mode == 'coded':\n",
        "      looks.extend(look_list)\n",
        "      return looks\n",
        "    elif input_mode == 'otf':\n",
        "      inp = input('comma delimited list of looks please').split(',')\n",
        "      looks.extend(inp)\n",
        "      return looks\n",
        "    else:\n",
        "      print('please select an input_mode')\n",
        "\n",
        "  def title_get(looks, lislen, titles):\n",
        "    for i in range(lislen):\n",
        "      data = sdk.look(looks[i])\n",
        "      title = data.title\n",
        "      titles.append(title)\n",
        "    return titles\n",
        "\n",
        "  def downloader(looks, lislen, titles, file_name):\n",
        "    with pd.ExcelWriter(file_name+'.xlsx') as writer: \n",
        "      for i in range(lislen):\n",
        "        data = sdk.run_look(looks[i],'csv')\n",
        "        with open('temp.csv', 'w', newline='') as file:\n",
        "            file.write(data)\n",
        "        df = pd.read_table('temp.csv', delimiter =\",\",engine='python')\n",
        "        df.to_excel(writer, sheet_name=(titles[i]))\n",
        "\n",
        "  # wiring it up\n",
        "  list_create(input_mode,look_list)\n",
        "  lislen = len(looks)\n",
        "  title_get(looks, lislen, titles)\n",
        "  downloader(looks, lislen, titles, file_name)\n",
        "\n",
        "download_multilook_tabbed(input_mode,look_list, file_name)"
      ],
      "execution_count": 19,
      "outputs": []
    },
    {
      "cell_type": "code",
      "metadata": {
        "colab": {
          "base_uri": "https://localhost:8080/",
          "height": 17
        },
        "id": "FSFO5lFlCE0i",
        "outputId": "7073e03a-1699-4e43-d89b-31c2eb536d99"
      },
      "source": [
        "# colab specific - download the file\n",
        "from google.colab import files \n",
        "files.download(file_name+'.xlsx')"
      ],
      "execution_count": 20,
      "outputs": [
        {
          "output_type": "display_data",
          "data": {
            "application/javascript": [
              "\n",
              "    async function download(id, filename, size) {\n",
              "      if (!google.colab.kernel.accessAllowed) {\n",
              "        return;\n",
              "      }\n",
              "      const div = document.createElement('div');\n",
              "      const label = document.createElement('label');\n",
              "      label.textContent = `Downloading \"${filename}\": `;\n",
              "      div.appendChild(label);\n",
              "      const progress = document.createElement('progress');\n",
              "      progress.max = size;\n",
              "      div.appendChild(progress);\n",
              "      document.body.appendChild(div);\n",
              "\n",
              "      const buffers = [];\n",
              "      let downloaded = 0;\n",
              "\n",
              "      const channel = await google.colab.kernel.comms.open(id);\n",
              "      // Send a message to notify the kernel that we're ready.\n",
              "      channel.send({})\n",
              "\n",
              "      for await (const message of channel.messages) {\n",
              "        // Send a message to notify the kernel that we're ready.\n",
              "        channel.send({})\n",
              "        if (message.buffers) {\n",
              "          for (const buffer of message.buffers) {\n",
              "            buffers.push(buffer);\n",
              "            downloaded += buffer.byteLength;\n",
              "            progress.value = downloaded;\n",
              "          }\n",
              "        }\n",
              "      }\n",
              "      const blob = new Blob(buffers, {type: 'application/binary'});\n",
              "      const a = document.createElement('a');\n",
              "      a.href = window.URL.createObjectURL(blob);\n",
              "      a.download = filename;\n",
              "      div.appendChild(a);\n",
              "      a.click();\n",
              "      div.remove();\n",
              "    }\n",
              "  "
            ],
            "text/plain": [
              "<IPython.core.display.Javascript object>"
            ]
          },
          "metadata": {
            "tags": []
          }
        },
        {
          "output_type": "display_data",
          "data": {
            "application/javascript": [
              "download(\"download_48a3be2c-22bf-43a3-b54e-696f1c42137c\", \"foo2.xlsx\", 15000)"
            ],
            "text/plain": [
              "<IPython.core.display.Javascript object>"
            ]
          },
          "metadata": {
            "tags": []
          }
        }
      ]
    }
  ]
}