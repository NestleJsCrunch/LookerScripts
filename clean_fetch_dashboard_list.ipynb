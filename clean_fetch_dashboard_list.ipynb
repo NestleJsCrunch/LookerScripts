{
  "nbformat": 4,
  "nbformat_minor": 0,
  "metadata": {
    "colab": {
      "name": "clean fetch_dashboard_list.ipynb",
      "provenance": [],
      "collapsed_sections": []
    },
    "kernelspec": {
      "name": "python3",
      "display_name": "Python 3"
    },
    "language_info": {
      "name": "python"
    }
  },
  "cells": [
    {
      "cell_type": "markdown",
      "metadata": {
        "id": "wVr2kFp2hgxD"
      },
      "source": [
        "### **README**\n",
        "\n",
        "authorship: NestleJsCrunch, eric-lyons\n",
        "\n",
        "# What this does\n",
        "\n",
        "This creates a list of all dashboards currently on the Looker instance based on their `preferred_viewer` parameter. `preferred_viewer` controls which type the dashboard is, whether that be the new dashboard experience (`dashboards-next`) or legacy. \n",
        "\n",
        "# Notes\n",
        "- Be warned: This may take a _very_ long time to run. Depending on the number of dashboards on the Looker instance, you may also hit an API rate limit. In that case, uncomment the time.sleep() line. \n",
        "\n",
        "Interpreting the output: \n",
        "- The script will append data to one of four lists: `next_list`, `legacy_list`, `undefined_list`, or `error_list`. \n",
        "- `next_list` = dashboards that are `dashboards-next` and will continue to be next post-21.20\n",
        "- `legacy_list` = dashboards that are `dashboards-legacy` and will continue to be legacy post-21.20\n",
        "- `undefined_list` = dashboards that are currently `dashboards-legacy` but do not have a `preferred_viewer` set and will be converted to `dashboards-next` unless action is taken, post-21.20\n",
        "- `error_list` = dashboards who's metadata could not be parsed due to errors. These dashboards are likely not in use, but the list is included just in case. \n",
        "\n",
        "If using colab version, you will need to input your api url, client_id, and client_secret in the `## colab inputs ##` section. \n",
        "\n",
        "```\n",
        "os.environ['LOOKERSDK_BASE_URL'] = 'https://example.looker.com'\n",
        "os.environ['LOOKERSDK_API_VERSION'] = '3.1'\n",
        "os.environ['LOOKERSDK_CLIENT_ID'] = 'client id here'\n",
        "os.environ['LOOKERSDK_CLIENT_SECRET'] = 'client secret here'\n",
        "```\n",
        "\n",
        "If using python (local) version, these values should be set for the sdk per either an `.ini` file or as an environment variable. See Python SDK documentation for more information. https://pypi.org/project/looker-sdk/"
      ]
    },
    {
      "cell_type": "code",
      "metadata": {
        "id": "TGd0X7bi2rgh"
      },
      "source": [
        "### colab specific ###\n",
        "# install the sdk\n",
        "!pip install looker-sdk\n",
        "# set environ variables\n",
        "import os\n",
        "\n",
        "## colab inputs ##\n",
        "os.environ['LOOKERSDK_BASE_URL'] = ''\n",
        "os.environ['LOOKERSDK_API_VERSION'] = ''\n",
        "os.environ['LOOKERSDK_CLIENT_ID'] = ''\n",
        "os.environ['LOOKERSDK_CLIENT_SECRET'] = ''"
      ],
      "execution_count": null,
      "outputs": []
    },
    {
      "cell_type": "code",
      "metadata": {
        "id": "Yl4-Eu-k2v87"
      },
      "source": [
        "### import packages ###\n",
        "# import and init\n",
        "import time\n",
        "import looker_sdk\n",
        "from looker_sdk import models40\n",
        "sdk = looker_sdk.init40(\"looker.ini\")\n",
        "\n",
        "all_dashboards = sdk.all_dashboards()\n",
        "numberofdashboards = len(all_dashboards)\n",
        "\n",
        "next_list = []\n",
        "legacy_list = []\n",
        "undefined_list = []\n",
        "error_dashboards = []"
      ],
      "execution_count": null,
      "outputs": []
    },
    {
      "cell_type": "code",
      "metadata": {
        "id": "r2Pwbm4W-cRb"
      },
      "source": [
        "for i in range(numberofdashboards):\n",
        "\n",
        "  try: \n",
        "    # uncomment the below line if you hit an api rate limit\n",
        "    # time.sleep(1)\n",
        "    current = sdk.dashboard(dashboard_id = all_dashboards[i].id)\n",
        "    if current.preferred_viewer == \"dashboards-next\":\n",
        "      next_list.append(current.id)\n",
        "    elif current.preferred_viewer == \"dashboards\":\n",
        "      legacy_list.append(current.id)\n",
        "    else:\n",
        "      undefined_list.append(current.id)\n",
        "  except:\n",
        "    error_dashboards.append(all_dashboards[i].id)"
      ],
      "execution_count": null,
      "outputs": []
    },
    {
      "cell_type": "code",
      "metadata": {
        "id": "YxfWcCELUnlu"
      },
      "source": [
        "# from here, can either print any of the lists or send to outfile. \n",
        "# the list most people will be interested in is `undefined_list`"
      ],
      "execution_count": null,
      "outputs": []
    }
  ]
}