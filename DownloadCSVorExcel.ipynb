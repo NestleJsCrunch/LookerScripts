{
  "nbformat": 4,
  "nbformat_minor": 0,
  "metadata": {
    "colab": {
      "name": "DownloadCSVorExcel.ipynb",
      "provenance": [],
      "collapsed_sections": []
    },
    "kernelspec": {
      "name": "python3",
      "display_name": "Python 3"
    },
    "language_info": {
      "name": "python"
    }
  },
  "cells": [
    {
      "cell_type": "markdown",
      "metadata": {
        "id": "wVr2kFp2hgxD"
      },
      "source": [
        "### **README**\n",
        "\n",
        "# What this does\n",
        "\n",
        "This script allows you to download a **dashboard** with any number of tiles as a series of either `csv` or an `xlsx` files instead of the default `csv_zip` that the UI allows for. Can be easily modified to support `json` or `txt` extensions (see Notes)\n",
        "\n",
        "# Notes\n",
        "`DownloadCSVorExcel(dash_id, file_name, extension)` accepts 3 inputs:\n",
        "\n",
        "- `dash_id`(string) - the ID of the dashboard to download \n",
        "- `file_name`(string) - the desired output name of the files. Each file will be named `file_name + i`\n",
        "- `extension`(string) - the desired output extension. Accepts either `xlsx` or `csv`. \n",
        "\n",
        "If json or txt extensions are desired, just add additional loops that either fetch results from `run_query` in that format or convert via the script. \n",
        "\n",
        "If using colab version, you will need to input your api url, client_id, and client_secret in the `## colab inputs ##` section. \n",
        "\n",
        "```\n",
        "os.environ['LOOKERSDK_BASE_URL'] = 'https://example.looker.com'\n",
        "os.environ['LOOKERSDK_API_VERSION'] = '3.1'\n",
        "os.environ['LOOKERSDK_CLIENT_ID'] = 'client id here'\n",
        "os.environ['LOOKERSDK_CLIENT_SECRET'] = 'client secret here'\n",
        "```\n",
        "\n",
        "If using python (local) version, these values should be set for the sdk per either an `.ini` file or as an environment variable. See Python SDK documentation for more information. https://pypi.org/project/looker-sdk/"
      ]
    },
    {
      "cell_type": "code",
      "metadata": {
        "colab": {
          "base_uri": "https://localhost:8080/"
        },
        "id": "TGd0X7bi2rgh",
        "outputId": "3bb74887-4cc0-4f71-c541-3abd48d2ec82"
      },
      "source": [
        "### colab specific ###\n",
        "# install the sdk\n",
        "!pip install looker-sdk\n",
        "# set environ variables\n",
        "import os\n",
        "\n",
        "## colab inputs ##\n",
        "os.environ['LOOKERSDK_BASE_URL'] = ''\n",
        "os.environ['LOOKERSDK_API_VERSION'] = '3.1'\n",
        "os.environ['LOOKERSDK_CLIENT_ID'] = ''\n",
        "os.environ['LOOKERSDK_CLIENT_SECRET'] = ''"
      ],
      "execution_count": 1,
      "outputs": [
        {
          "output_type": "stream",
          "text": [
            "Collecting looker-sdk\n",
            "\u001b[?25l  Downloading https://files.pythonhosted.org/packages/5b/b0/6c858c51b63cd7db6af1603ae08038ad4a7bb0b6f1e166eafa62ed4195a8/looker_sdk-21.4.0-py3-none-any.whl (318kB)\n",
            "\r\u001b[K     |█                               | 10kB 14.9MB/s eta 0:00:01\r\u001b[K     |██                              | 20kB 20.8MB/s eta 0:00:01\r\u001b[K     |███                             | 30kB 14.3MB/s eta 0:00:01\r\u001b[K     |████▏                           | 40kB 11.1MB/s eta 0:00:01\r\u001b[K     |█████▏                          | 51kB 8.8MB/s eta 0:00:01\r\u001b[K     |██████▏                         | 61kB 9.4MB/s eta 0:00:01\r\u001b[K     |███████▏                        | 71kB 9.1MB/s eta 0:00:01\r\u001b[K     |████████▎                       | 81kB 9.2MB/s eta 0:00:01\r\u001b[K     |█████████▎                      | 92kB 9.7MB/s eta 0:00:01\r\u001b[K     |██████████▎                     | 102kB 9.8MB/s eta 0:00:01\r\u001b[K     |███████████▎                    | 112kB 9.8MB/s eta 0:00:01\r\u001b[K     |████████████▍                   | 122kB 9.8MB/s eta 0:00:01\r\u001b[K     |█████████████▍                  | 133kB 9.8MB/s eta 0:00:01\r\u001b[K     |██████████████▍                 | 143kB 9.8MB/s eta 0:00:01\r\u001b[K     |███████████████▌                | 153kB 9.8MB/s eta 0:00:01\r\u001b[K     |████████████████▌               | 163kB 9.8MB/s eta 0:00:01\r\u001b[K     |█████████████████▌              | 174kB 9.8MB/s eta 0:00:01\r\u001b[K     |██████████████████▌             | 184kB 9.8MB/s eta 0:00:01\r\u001b[K     |███████████████████▋            | 194kB 9.8MB/s eta 0:00:01\r\u001b[K     |████████████████████▋           | 204kB 9.8MB/s eta 0:00:01\r\u001b[K     |█████████████████████▋          | 215kB 9.8MB/s eta 0:00:01\r\u001b[K     |██████████████████████▋         | 225kB 9.8MB/s eta 0:00:01\r\u001b[K     |███████████████████████▊        | 235kB 9.8MB/s eta 0:00:01\r\u001b[K     |████████████████████████▊       | 245kB 9.8MB/s eta 0:00:01\r\u001b[K     |█████████████████████████▊      | 256kB 9.8MB/s eta 0:00:01\r\u001b[K     |██████████████████████████▊     | 266kB 9.8MB/s eta 0:00:01\r\u001b[K     |███████████████████████████▉    | 276kB 9.8MB/s eta 0:00:01\r\u001b[K     |████████████████████████████▉   | 286kB 9.8MB/s eta 0:00:01\r\u001b[K     |█████████████████████████████▉  | 296kB 9.8MB/s eta 0:00:01\r\u001b[K     |███████████████████████████████ | 307kB 9.8MB/s eta 0:00:01\r\u001b[K     |████████████████████████████████| 317kB 9.8MB/s eta 0:00:01\r\u001b[K     |████████████████████████████████| 327kB 9.8MB/s \n",
            "\u001b[?25hRequirement already satisfied: attrs>=20.1.0; python_version >= \"3.7\" in /usr/local/lib/python3.7/dist-packages (from looker-sdk) (20.3.0)\n",
            "Requirement already satisfied: typing-extensions; python_version < \"3.8\" in /usr/local/lib/python3.7/dist-packages (from looker-sdk) (3.7.4.3)\n",
            "Requirement already satisfied: requests>=2.22 in /usr/local/lib/python3.7/dist-packages (from looker-sdk) (2.23.0)\n",
            "Collecting cattrs==1.1.2; python_version >= \"3.7\"\n",
            "  Downloading https://files.pythonhosted.org/packages/de/6c/7e372e2826df2dc798bf49c6ddfc60e3218456bef82df1a29b387bf607ba/cattrs-1.1.2-py3-none-any.whl\n",
            "Requirement already satisfied: idna<3,>=2.5 in /usr/local/lib/python3.7/dist-packages (from requests>=2.22->looker-sdk) (2.10)\n",
            "Requirement already satisfied: certifi>=2017.4.17 in /usr/local/lib/python3.7/dist-packages (from requests>=2.22->looker-sdk) (2020.12.5)\n",
            "Requirement already satisfied: urllib3!=1.25.0,!=1.25.1,<1.26,>=1.21.1 in /usr/local/lib/python3.7/dist-packages (from requests>=2.22->looker-sdk) (1.24.3)\n",
            "Requirement already satisfied: chardet<4,>=3.0.2 in /usr/local/lib/python3.7/dist-packages (from requests>=2.22->looker-sdk) (3.0.4)\n",
            "Installing collected packages: cattrs, looker-sdk\n",
            "Successfully installed cattrs-1.1.2 looker-sdk-21.4.0\n"
          ],
          "name": "stdout"
        }
      ]
    },
    {
      "cell_type": "code",
      "metadata": {
        "id": "_tVrT5pxulQU"
      },
      "source": [
        "# will need these for downloading the file from colab\n",
        "!pip install -U -q PyDrive\n",
        "from pydrive.auth import GoogleAuth\n",
        "from pydrive.drive import GoogleDrive\n",
        "from google.colab import auth\n",
        "from google.colab import files\n",
        "from oauth2client.client import GoogleCredentials\n",
        "# auth stuff for download\n",
        "auth.authenticate_user()\n",
        "gauth = GoogleAuth()\n",
        "gauth.credentials = GoogleCredentials.get_application_default()\n",
        "drive = GoogleDrive(gauth)"
      ],
      "execution_count": 2,
      "outputs": []
    },
    {
      "cell_type": "code",
      "metadata": {
        "id": "Yl4-Eu-k2v87"
      },
      "source": [
        "### import packages ###\n",
        "# import and init\n",
        "import looker_sdk\n",
        "sdk = looker_sdk.init31(\"looker.ini\")\n",
        "\n",
        "import pandas as pd\n",
        "import csv"
      ],
      "execution_count": 9,
      "outputs": []
    },
    {
      "cell_type": "code",
      "metadata": {
        "id": "-Nh7DQOn2xhj"
      },
      "source": [
        "## inputs ##\n",
        "\n",
        "dash_id = ''\n",
        "file_name = ''\n",
        "extension = 'csv | xlsx'"
      ],
      "execution_count": 22,
      "outputs": []
    },
    {
      "cell_type": "code",
      "metadata": {
        "colab": {
          "base_uri": "https://localhost:8080/",
          "height": 17
        },
        "id": "0IMyHlUUXBBp",
        "outputId": "79be9dc9-6e9b-4c27-eaac-2dd76d3edb5f"
      },
      "source": [
        "def DownloadCSVorExcel(dash_id, file_name, extension):\n",
        "\n",
        "  # variables \n",
        "  data = sdk.search_dashboard_elements(dashboard_id=dash_id)\n",
        "  listlen = len(data)\n",
        "  query_ids = []\n",
        "\n",
        "  # helper methods\n",
        "  def id_getter(data, listlen, query_ids):\n",
        "    for i in range(listlen):\n",
        "      query_ids.append(data[i].result_maker.query_id)\n",
        "    return query_ids\n",
        "    \n",
        "  def downloader(extension, data, listlen, query_ids, file_name):\n",
        "      idlist = id_getter(data, listlen, query_ids)\n",
        "\n",
        "      if extension == 'xlsx':\n",
        "\n",
        "        for i in range(listlen):\n",
        "            resultset = sdk.run_query(query_id=idlist[i],result_format='csv')\n",
        "\n",
        "            with open('temp.csv', 'w', newline='') as file:\n",
        "              file.write(resultset)\n",
        "            \n",
        "            with pd.ExcelWriter(file_name+' '+str(i)+'.xlsx') as writer:\n",
        "              df = pd.read_table('temp.csv', delimiter =\",\",engine='python')\n",
        "              df.to_excel(writer, sheet_name=('Sheet 1'))\n",
        "            \n",
        "            # colab only\n",
        "            from google.colab import files \n",
        "            files.download(file_name+' '+str(i)+'.xlsx')\n",
        "            # end colab \n",
        "            \n",
        "      elif extension == 'csv':\n",
        "\n",
        "        for i in range(listlen):\n",
        "            resultset = sdk.run_query(query_id=idlist[i],result_format='csv')\n",
        "\n",
        "            with open(file_name+' '+str(i)+ '.csv', 'w', newline='') as file:\n",
        "              file.write(resultset)\n",
        "\n",
        "            # colab only\n",
        "            from google.colab import files \n",
        "            files.download(file_name+' '+str(i)+ '.csv')\n",
        "            # end colab\n",
        "\n",
        "      else: \n",
        "        print('ERROR')\n",
        "    \n",
        "  downloader(extension, data, listlen, query_ids, file_name)"
      ],
      "execution_count": 25,
      "outputs": [
        {
          "output_type": "display_data",
          "data": {
            "application/javascript": [
              "\n",
              "    async function download(id, filename, size) {\n",
              "      if (!google.colab.kernel.accessAllowed) {\n",
              "        return;\n",
              "      }\n",
              "      const div = document.createElement('div');\n",
              "      const label = document.createElement('label');\n",
              "      label.textContent = `Downloading \"${filename}\": `;\n",
              "      div.appendChild(label);\n",
              "      const progress = document.createElement('progress');\n",
              "      progress.max = size;\n",
              "      div.appendChild(progress);\n",
              "      document.body.appendChild(div);\n",
              "\n",
              "      const buffers = [];\n",
              "      let downloaded = 0;\n",
              "\n",
              "      const channel = await google.colab.kernel.comms.open(id);\n",
              "      // Send a message to notify the kernel that we're ready.\n",
              "      channel.send({})\n",
              "\n",
              "      for await (const message of channel.messages) {\n",
              "        // Send a message to notify the kernel that we're ready.\n",
              "        channel.send({})\n",
              "        if (message.buffers) {\n",
              "          for (const buffer of message.buffers) {\n",
              "            buffers.push(buffer);\n",
              "            downloaded += buffer.byteLength;\n",
              "            progress.value = downloaded;\n",
              "          }\n",
              "        }\n",
              "      }\n",
              "      const blob = new Blob(buffers, {type: 'application/binary'});\n",
              "      const a = document.createElement('a');\n",
              "      a.href = window.URL.createObjectURL(blob);\n",
              "      a.download = filename;\n",
              "      div.appendChild(a);\n",
              "      a.click();\n",
              "      div.remove();\n",
              "    }\n",
              "  "
            ],
            "text/plain": [
              "<IPython.core.display.Javascript object>"
            ]
          },
          "metadata": {
            "tags": []
          }
        },
        {
          "output_type": "display_data",
          "data": {
            "application/javascript": [
              "download(\"download_aaf83890-1a03-4eb3-806a-97a60e652c78\", \"lol 0.csv\", 75)"
            ],
            "text/plain": [
              "<IPython.core.display.Javascript object>"
            ]
          },
          "metadata": {
            "tags": []
          }
        },
        {
          "output_type": "display_data",
          "data": {
            "application/javascript": [
              "\n",
              "    async function download(id, filename, size) {\n",
              "      if (!google.colab.kernel.accessAllowed) {\n",
              "        return;\n",
              "      }\n",
              "      const div = document.createElement('div');\n",
              "      const label = document.createElement('label');\n",
              "      label.textContent = `Downloading \"${filename}\": `;\n",
              "      div.appendChild(label);\n",
              "      const progress = document.createElement('progress');\n",
              "      progress.max = size;\n",
              "      div.appendChild(progress);\n",
              "      document.body.appendChild(div);\n",
              "\n",
              "      const buffers = [];\n",
              "      let downloaded = 0;\n",
              "\n",
              "      const channel = await google.colab.kernel.comms.open(id);\n",
              "      // Send a message to notify the kernel that we're ready.\n",
              "      channel.send({})\n",
              "\n",
              "      for await (const message of channel.messages) {\n",
              "        // Send a message to notify the kernel that we're ready.\n",
              "        channel.send({})\n",
              "        if (message.buffers) {\n",
              "          for (const buffer of message.buffers) {\n",
              "            buffers.push(buffer);\n",
              "            downloaded += buffer.byteLength;\n",
              "            progress.value = downloaded;\n",
              "          }\n",
              "        }\n",
              "      }\n",
              "      const blob = new Blob(buffers, {type: 'application/binary'});\n",
              "      const a = document.createElement('a');\n",
              "      a.href = window.URL.createObjectURL(blob);\n",
              "      a.download = filename;\n",
              "      div.appendChild(a);\n",
              "      a.click();\n",
              "      div.remove();\n",
              "    }\n",
              "  "
            ],
            "text/plain": [
              "<IPython.core.display.Javascript object>"
            ]
          },
          "metadata": {
            "tags": []
          }
        },
        {
          "output_type": "display_data",
          "data": {
            "application/javascript": [
              "download(\"download_a7bc4e5f-6aac-4c22-8df5-181968fa1d5c\", \"lol 1.csv\", 3934)"
            ],
            "text/plain": [
              "<IPython.core.display.Javascript object>"
            ]
          },
          "metadata": {
            "tags": []
          }
        },
        {
          "output_type": "display_data",
          "data": {
            "application/javascript": [
              "\n",
              "    async function download(id, filename, size) {\n",
              "      if (!google.colab.kernel.accessAllowed) {\n",
              "        return;\n",
              "      }\n",
              "      const div = document.createElement('div');\n",
              "      const label = document.createElement('label');\n",
              "      label.textContent = `Downloading \"${filename}\": `;\n",
              "      div.appendChild(label);\n",
              "      const progress = document.createElement('progress');\n",
              "      progress.max = size;\n",
              "      div.appendChild(progress);\n",
              "      document.body.appendChild(div);\n",
              "\n",
              "      const buffers = [];\n",
              "      let downloaded = 0;\n",
              "\n",
              "      const channel = await google.colab.kernel.comms.open(id);\n",
              "      // Send a message to notify the kernel that we're ready.\n",
              "      channel.send({})\n",
              "\n",
              "      for await (const message of channel.messages) {\n",
              "        // Send a message to notify the kernel that we're ready.\n",
              "        channel.send({})\n",
              "        if (message.buffers) {\n",
              "          for (const buffer of message.buffers) {\n",
              "            buffers.push(buffer);\n",
              "            downloaded += buffer.byteLength;\n",
              "            progress.value = downloaded;\n",
              "          }\n",
              "        }\n",
              "      }\n",
              "      const blob = new Blob(buffers, {type: 'application/binary'});\n",
              "      const a = document.createElement('a');\n",
              "      a.href = window.URL.createObjectURL(blob);\n",
              "      a.download = filename;\n",
              "      div.appendChild(a);\n",
              "      a.click();\n",
              "      div.remove();\n",
              "    }\n",
              "  "
            ],
            "text/plain": [
              "<IPython.core.display.Javascript object>"
            ]
          },
          "metadata": {
            "tags": []
          }
        },
        {
          "output_type": "display_data",
          "data": {
            "application/javascript": [
              "download(\"download_e5f2e689-3b5f-4329-b038-297e6e6215bb\", \"lol 2.csv\", 68)"
            ],
            "text/plain": [
              "<IPython.core.display.Javascript object>"
            ]
          },
          "metadata": {
            "tags": []
          }
        }
      ]
    }
  ]
}