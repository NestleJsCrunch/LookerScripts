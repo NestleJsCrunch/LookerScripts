{
  "nbformat": 4,
  "nbformat_minor": 0,
  "metadata": {
    "colab": {
      "name": "DownloadDifferentDelimiter.ipynb",
      "provenance": []
    },
    "kernelspec": {
      "name": "python3",
      "display_name": "Python 3"
    },
    "language_info": {
      "name": "python"
    }
  },
  "cells": [
    {
      "cell_type": "markdown",
      "metadata": {
        "id": "plcbDXTrrmDt"
      },
      "source": [
        "### **README**\n",
        "\n",
        "# What this does\n",
        "\n",
        "This script allows you to download Look or Dashboard as CSV(s) with a different delimiter than default (a comma `,`). Note: The output file will have an extension of `.txt`. \n",
        "\n",
        "# Notes\n",
        "`DownloadDifferentDelimiter(content_id, content_type, file_name, new_delimiter)` accepts four inputs:\n",
        "\n",
        "- `content_id`(string) - accepts either a Look ID or a Dashboard ID. \n",
        "- `content_type`(string) - the type of content (look or dashboard).\n",
        "- `file_name`(string) - the desired filename of the output file(s). If downloading a dashboard, the output files will be named `file_name i`.\n",
        "- `new_delimiter`(string) - the desired new delimiter. \n",
        "\n",
        "If using colab version, you will need to input your api url, client_id, and client_secret in the `## colab inputs ##` section. \n",
        "\n",
        "```\n",
        "os.environ['LOOKERSDK_BASE_URL'] = 'https://example.looker.com'\n",
        "os.environ['LOOKERSDK_API_VERSION'] = '3.1'\n",
        "os.environ['LOOKERSDK_CLIENT_ID'] = 'client id here'\n",
        "os.environ['LOOKERSDK_CLIENT_SECRET'] = 'client secret here'\n",
        "```\n",
        "\n",
        "If using python (local) version, these values should be set for the sdk per either an `.ini` file or as an environment variable. See Python SDK documentation for more information. https://pypi.org/project/looker-sdk/\n"
      ]
    },
    {
      "cell_type": "code",
      "metadata": {
        "colab": {
          "base_uri": "https://localhost:8080/"
        },
        "id": "e6er52B3BMFO",
        "outputId": "738939ff-ffb5-4a84-ff38-0e002f98e16c"
      },
      "source": [
        "### colab specific ###\n",
        "# install the sdk\n",
        "!pip install looker-sdk\n",
        "# set environ variables\n",
        "import os\n",
        "\n",
        "## colab inputs ##\n",
        "os.environ['LOOKERSDK_BASE_URL'] = ''\n",
        "os.environ['LOOKERSDK_API_VERSION'] = '3.1'\n",
        "os.environ['LOOKERSDK_CLIENT_ID'] = ''\n",
        "os.environ['LOOKERSDK_CLIENT_SECRET'] = ''\n",
        "\n",
        "# will need these for downloading the file from colab\n",
        "!pip install -U -q PyDrive\n",
        "from pydrive.auth import GoogleAuth\n",
        "from pydrive.drive import GoogleDrive\n",
        "from google.colab import auth\n",
        "from google.colab import files\n",
        "from oauth2client.client import GoogleCredentials\n",
        "# auth stuff for download\n",
        "auth.authenticate_user()\n",
        "gauth = GoogleAuth()\n",
        "gauth.credentials = GoogleCredentials.get_application_default()\n",
        "drive = GoogleDrive(gauth)"
      ],
      "execution_count": 1,
      "outputs": [
        {
          "output_type": "stream",
          "text": [
            "Collecting looker-sdk\n",
            "\u001b[?25l  Downloading https://files.pythonhosted.org/packages/5b/b0/6c858c51b63cd7db6af1603ae08038ad4a7bb0b6f1e166eafa62ed4195a8/looker_sdk-21.4.0-py3-none-any.whl (318kB)\n",
            "\r\u001b[K     |█                               | 10kB 15.5MB/s eta 0:00:01\r\u001b[K     |██                              | 20kB 13.5MB/s eta 0:00:01\r\u001b[K     |███                             | 30kB 8.7MB/s eta 0:00:01\r\u001b[K     |████▏                           | 40kB 8.3MB/s eta 0:00:01\r\u001b[K     |█████▏                          | 51kB 4.4MB/s eta 0:00:01\r\u001b[K     |██████▏                         | 61kB 5.0MB/s eta 0:00:01\r\u001b[K     |███████▏                        | 71kB 5.0MB/s eta 0:00:01\r\u001b[K     |████████▎                       | 81kB 5.5MB/s eta 0:00:01\r\u001b[K     |█████████▎                      | 92kB 5.8MB/s eta 0:00:01\r\u001b[K     |██████████▎                     | 102kB 5.8MB/s eta 0:00:01\r\u001b[K     |███████████▎                    | 112kB 5.8MB/s eta 0:00:01\r\u001b[K     |████████████▍                   | 122kB 5.8MB/s eta 0:00:01\r\u001b[K     |█████████████▍                  | 133kB 5.8MB/s eta 0:00:01\r\u001b[K     |██████████████▍                 | 143kB 5.8MB/s eta 0:00:01\r\u001b[K     |███████████████▌                | 153kB 5.8MB/s eta 0:00:01\r\u001b[K     |████████████████▌               | 163kB 5.8MB/s eta 0:00:01\r\u001b[K     |█████████████████▌              | 174kB 5.8MB/s eta 0:00:01\r\u001b[K     |██████████████████▌             | 184kB 5.8MB/s eta 0:00:01\r\u001b[K     |███████████████████▋            | 194kB 5.8MB/s eta 0:00:01\r\u001b[K     |████████████████████▋           | 204kB 5.8MB/s eta 0:00:01\r\u001b[K     |█████████████████████▋          | 215kB 5.8MB/s eta 0:00:01\r\u001b[K     |██████████████████████▋         | 225kB 5.8MB/s eta 0:00:01\r\u001b[K     |███████████████████████▊        | 235kB 5.8MB/s eta 0:00:01\r\u001b[K     |████████████████████████▊       | 245kB 5.8MB/s eta 0:00:01\r\u001b[K     |█████████████████████████▊      | 256kB 5.8MB/s eta 0:00:01\r\u001b[K     |██████████████████████████▊     | 266kB 5.8MB/s eta 0:00:01\r\u001b[K     |███████████████████████████▉    | 276kB 5.8MB/s eta 0:00:01\r\u001b[K     |████████████████████████████▉   | 286kB 5.8MB/s eta 0:00:01\r\u001b[K     |█████████████████████████████▉  | 296kB 5.8MB/s eta 0:00:01\r\u001b[K     |███████████████████████████████ | 307kB 5.8MB/s eta 0:00:01\r\u001b[K     |████████████████████████████████| 317kB 5.8MB/s eta 0:00:01\r\u001b[K     |████████████████████████████████| 327kB 5.8MB/s \n",
            "\u001b[?25hCollecting cattrs==1.1.2; python_version >= \"3.7\"\n",
            "  Downloading https://files.pythonhosted.org/packages/de/6c/7e372e2826df2dc798bf49c6ddfc60e3218456bef82df1a29b387bf607ba/cattrs-1.1.2-py3-none-any.whl\n",
            "Requirement already satisfied: typing-extensions; python_version < \"3.8\" in /usr/local/lib/python3.7/dist-packages (from looker-sdk) (3.7.4.3)\n",
            "Requirement already satisfied: requests>=2.22 in /usr/local/lib/python3.7/dist-packages (from looker-sdk) (2.23.0)\n",
            "Requirement already satisfied: attrs>=20.1.0; python_version >= \"3.7\" in /usr/local/lib/python3.7/dist-packages (from looker-sdk) (20.3.0)\n",
            "Requirement already satisfied: chardet<4,>=3.0.2 in /usr/local/lib/python3.7/dist-packages (from requests>=2.22->looker-sdk) (3.0.4)\n",
            "Requirement already satisfied: idna<3,>=2.5 in /usr/local/lib/python3.7/dist-packages (from requests>=2.22->looker-sdk) (2.10)\n",
            "Requirement already satisfied: urllib3!=1.25.0,!=1.25.1,<1.26,>=1.21.1 in /usr/local/lib/python3.7/dist-packages (from requests>=2.22->looker-sdk) (1.24.3)\n",
            "Requirement already satisfied: certifi>=2017.4.17 in /usr/local/lib/python3.7/dist-packages (from requests>=2.22->looker-sdk) (2020.12.5)\n",
            "Installing collected packages: cattrs, looker-sdk\n",
            "Successfully installed cattrs-1.1.2 looker-sdk-21.4.0\n"
          ],
          "name": "stdout"
        }
      ]
    },
    {
      "cell_type": "code",
      "metadata": {
        "id": "LKAj6p3jDvK2"
      },
      "source": [
        "### import packages ###\n",
        "# import and init\n",
        "import looker_sdk\n",
        "sdk = looker_sdk.init31(\"looker.ini\")\n",
        "\n",
        "import pandas as pd\n",
        "import csv\n"
      ],
      "execution_count": 2,
      "outputs": []
    },
    {
      "cell_type": "code",
      "metadata": {
        "id": "MRQ1s05-F4u0"
      },
      "source": [
        "# inputs\n",
        "\n",
        "content_id = ''\n",
        "content_type = 'dashboard | look'\n",
        "file_name = ''\n",
        "new_delimiter = ''\n",
        "\n"
      ],
      "execution_count": 19,
      "outputs": []
    },
    {
      "cell_type": "code",
      "metadata": {
        "colab": {
          "base_uri": "https://localhost:8080/",
          "height": 17
        },
        "id": "76GRDDOAlWw0",
        "outputId": "ef283437-1a34-4a6f-c85b-d81de00338b9"
      },
      "source": [
        "def DownloadDifferentDelimiter(content_id, content_type, file_name, new_delimiter):\n",
        "\n",
        "  if content_type == 'look':\n",
        "    data = sdk.run_look(content_id,'csv')\n",
        "\n",
        "    with open('temp.csv', 'w', newline='') as file:\n",
        "              file.write(data)\n",
        "    reader = csv.reader(open('temp.csv', \"r\"), delimiter=',')\n",
        "    writer = csv.writer(open(file_name+'.txt', 'w'), delimiter=new_delimiter)\n",
        "    writer.writerows(reader)\n",
        "\n",
        "  # colab only\n",
        "    from google.colab import files \n",
        "    files.download(file_name+'.txt')\n",
        "  # colab above\n",
        "\n",
        "  elif content_type == 'dashboard':\n",
        "    elements = sdk.search_dashboard_elements(dashboard_id=content_id)\n",
        "    numelemnets = len(elements)\n",
        "\n",
        "    for i in range(numelemnets):\n",
        "      element_query = elements[i].result_maker.query_id\n",
        "      data = sdk.run_query(query_id=element_query, result_format=\"csv\")\n",
        "      with open('temp.csv', 'w', newline='') as file:\n",
        "              file.write(data)\n",
        "      reader = csv.reader(open('temp.csv', \"r\"), delimiter=',')\n",
        "      final_filename = file_name+' '+ str(i)\n",
        "      writer = csv.writer(open(final_filename + '.txt', 'w'), delimiter=new_delimiter)\n",
        "      writer.writerows(reader)\n",
        "\n",
        "  # colab only\n",
        "      from google.colab import files \n",
        "      files.download(final_filename+'.txt')\n",
        "  # colab above\n"
      ],
      "execution_count": 26,
      "outputs": [
        {
          "output_type": "display_data",
          "data": {
            "application/javascript": [
              "\n",
              "    async function download(id, filename, size) {\n",
              "      if (!google.colab.kernel.accessAllowed) {\n",
              "        return;\n",
              "      }\n",
              "      const div = document.createElement('div');\n",
              "      const label = document.createElement('label');\n",
              "      label.textContent = `Downloading \"${filename}\": `;\n",
              "      div.appendChild(label);\n",
              "      const progress = document.createElement('progress');\n",
              "      progress.max = size;\n",
              "      div.appendChild(progress);\n",
              "      document.body.appendChild(div);\n",
              "\n",
              "      const buffers = [];\n",
              "      let downloaded = 0;\n",
              "\n",
              "      const channel = await google.colab.kernel.comms.open(id);\n",
              "      // Send a message to notify the kernel that we're ready.\n",
              "      channel.send({})\n",
              "\n",
              "      for await (const message of channel.messages) {\n",
              "        // Send a message to notify the kernel that we're ready.\n",
              "        channel.send({})\n",
              "        if (message.buffers) {\n",
              "          for (const buffer of message.buffers) {\n",
              "            buffers.push(buffer);\n",
              "            downloaded += buffer.byteLength;\n",
              "            progress.value = downloaded;\n",
              "          }\n",
              "        }\n",
              "      }\n",
              "      const blob = new Blob(buffers, {type: 'application/binary'});\n",
              "      const a = document.createElement('a');\n",
              "      a.href = window.URL.createObjectURL(blob);\n",
              "      a.download = filename;\n",
              "      div.appendChild(a);\n",
              "      a.click();\n",
              "      div.remove();\n",
              "    }\n",
              "  "
            ],
            "text/plain": [
              "<IPython.core.display.Javascript object>"
            ]
          },
          "metadata": {
            "tags": []
          }
        },
        {
          "output_type": "display_data",
          "data": {
            "application/javascript": [
              "download(\"download_0fc83be8-df1d-4ab8-bbc1-328c50d77bb0\", \"fuk 0.txt\", 0)"
            ],
            "text/plain": [
              "<IPython.core.display.Javascript object>"
            ]
          },
          "metadata": {
            "tags": []
          }
        },
        {
          "output_type": "display_data",
          "data": {
            "application/javascript": [
              "\n",
              "    async function download(id, filename, size) {\n",
              "      if (!google.colab.kernel.accessAllowed) {\n",
              "        return;\n",
              "      }\n",
              "      const div = document.createElement('div');\n",
              "      const label = document.createElement('label');\n",
              "      label.textContent = `Downloading \"${filename}\": `;\n",
              "      div.appendChild(label);\n",
              "      const progress = document.createElement('progress');\n",
              "      progress.max = size;\n",
              "      div.appendChild(progress);\n",
              "      document.body.appendChild(div);\n",
              "\n",
              "      const buffers = [];\n",
              "      let downloaded = 0;\n",
              "\n",
              "      const channel = await google.colab.kernel.comms.open(id);\n",
              "      // Send a message to notify the kernel that we're ready.\n",
              "      channel.send({})\n",
              "\n",
              "      for await (const message of channel.messages) {\n",
              "        // Send a message to notify the kernel that we're ready.\n",
              "        channel.send({})\n",
              "        if (message.buffers) {\n",
              "          for (const buffer of message.buffers) {\n",
              "            buffers.push(buffer);\n",
              "            downloaded += buffer.byteLength;\n",
              "            progress.value = downloaded;\n",
              "          }\n",
              "        }\n",
              "      }\n",
              "      const blob = new Blob(buffers, {type: 'application/binary'});\n",
              "      const a = document.createElement('a');\n",
              "      a.href = window.URL.createObjectURL(blob);\n",
              "      a.download = filename;\n",
              "      div.appendChild(a);\n",
              "      a.click();\n",
              "      div.remove();\n",
              "    }\n",
              "  "
            ],
            "text/plain": [
              "<IPython.core.display.Javascript object>"
            ]
          },
          "metadata": {
            "tags": []
          }
        },
        {
          "output_type": "display_data",
          "data": {
            "application/javascript": [
              "download(\"download_7e82b183-1b96-4c9c-8af5-2cdaad434179\", \"fuk 1.txt\", 0)"
            ],
            "text/plain": [
              "<IPython.core.display.Javascript object>"
            ]
          },
          "metadata": {
            "tags": []
          }
        },
        {
          "output_type": "display_data",
          "data": {
            "application/javascript": [
              "\n",
              "    async function download(id, filename, size) {\n",
              "      if (!google.colab.kernel.accessAllowed) {\n",
              "        return;\n",
              "      }\n",
              "      const div = document.createElement('div');\n",
              "      const label = document.createElement('label');\n",
              "      label.textContent = `Downloading \"${filename}\": `;\n",
              "      div.appendChild(label);\n",
              "      const progress = document.createElement('progress');\n",
              "      progress.max = size;\n",
              "      div.appendChild(progress);\n",
              "      document.body.appendChild(div);\n",
              "\n",
              "      const buffers = [];\n",
              "      let downloaded = 0;\n",
              "\n",
              "      const channel = await google.colab.kernel.comms.open(id);\n",
              "      // Send a message to notify the kernel that we're ready.\n",
              "      channel.send({})\n",
              "\n",
              "      for await (const message of channel.messages) {\n",
              "        // Send a message to notify the kernel that we're ready.\n",
              "        channel.send({})\n",
              "        if (message.buffers) {\n",
              "          for (const buffer of message.buffers) {\n",
              "            buffers.push(buffer);\n",
              "            downloaded += buffer.byteLength;\n",
              "            progress.value = downloaded;\n",
              "          }\n",
              "        }\n",
              "      }\n",
              "      const blob = new Blob(buffers, {type: 'application/binary'});\n",
              "      const a = document.createElement('a');\n",
              "      a.href = window.URL.createObjectURL(blob);\n",
              "      a.download = filename;\n",
              "      div.appendChild(a);\n",
              "      a.click();\n",
              "      div.remove();\n",
              "    }\n",
              "  "
            ],
            "text/plain": [
              "<IPython.core.display.Javascript object>"
            ]
          },
          "metadata": {
            "tags": []
          }
        },
        {
          "output_type": "display_data",
          "data": {
            "application/javascript": [
              "download(\"download_01c21143-1c4a-4bfa-b973-81e5b3bb130f\", \"fuk 2.txt\", 0)"
            ],
            "text/plain": [
              "<IPython.core.display.Javascript object>"
            ]
          },
          "metadata": {
            "tags": []
          }
        }
      ]
    }
  ]
}